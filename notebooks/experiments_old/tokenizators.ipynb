{
 "cells": [
  {
   "cell_type": "code",
   "execution_count": 1,
   "metadata": {},
   "outputs": [
    {
     "name": "stdout",
     "output_type": "stream",
     "text": [
      "Requirement already satisfied: jieba in /Users/danilkladnitsky/.pyenv/versions/3.10.4/lib/python3.10/site-packages (0.42.1)\n",
      "\u001b[33mWARNING: You are using pip version 22.0.4; however, version 25.1.1 is available.\n",
      "You should consider upgrading via the '/Users/danilkladnitsky/.pyenv/versions/3.10.4/bin/python -m pip install --upgrade pip' command.\u001b[0m\u001b[33m\n",
      "\u001b[0mNote: you may need to restart the kernel to use updated packages.\n"
     ]
    }
   ],
   "source": [
    "%pip install jieba"
   ]
  },
  {
   "cell_type": "code",
   "execution_count": 8,
   "metadata": {},
   "outputs": [
    {
     "name": "stdout",
     "output_type": "stream",
     "text": [
      "Original: 我每天喜欢跑步\n",
      "Tokens: ['我', '每天', '喜欢', '跑步']\n",
      "\n",
      "Original: 他们要去酒店\n",
      "Tokens: ['他们', '要', '去', '酒店']\n",
      "\n",
      "Original: 今天的天气很好\n",
      "Tokens: ['今天', '的', '天气', '很', '好']\n",
      "\n",
      "Original: 他正在学习汉语\n",
      "Tokens: ['他', '正在', '学习', '汉语']\n",
      "\n",
      "Original: 我们一起去图书馆\n",
      "Tokens: ['我们', '一起', '去', '图书馆']\n",
      "\n"
     ]
    }
   ],
   "source": [
    "import jieba\n",
    "\n",
    "text_list = [\n",
    "    \"我每天喜欢跑步\",\n",
    "    \"他们要去酒店\",\n",
    "    \"今天的天气很好\",\n",
    "    \"他正在学习汉语\",\n",
    "    \"我们一起去图书馆\"\n",
    "]\n",
    "\n",
    "# Accurate mode\n",
    "for text in text_list:\n",
    "    tokens = jieba.lcut(text, cut_all=False)\n",
    "    print(f\"Original: {text}\")\n",
    "    print(f\"Tokens: {tokens}\\n\")"
   ]
  }
 ],
 "metadata": {
  "kernelspec": {
   "display_name": "Python 3",
   "language": "python",
   "name": "python3"
  },
  "language_info": {
   "codemirror_mode": {
    "name": "ipython",
    "version": 3
   },
   "file_extension": ".py",
   "mimetype": "text/x-python",
   "name": "python",
   "nbconvert_exporter": "python",
   "pygments_lexer": "ipython3",
   "version": "3.10.4"
  }
 },
 "nbformat": 4,
 "nbformat_minor": 2
}
