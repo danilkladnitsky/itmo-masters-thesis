{
 "cells": [
  {
   "cell_type": "code",
   "execution_count": 1,
   "metadata": {},
   "outputs": [
    {
     "name": "stdout",
     "output_type": "stream",
     "text": [
      "Requirement already satisfied: transformers in /Users/danilkladnitsky/.pyenv/versions/3.10.4/lib/python3.10/site-packages (4.51.3)\n",
      "Requirement already satisfied: torch in /Users/danilkladnitsky/.pyenv/versions/3.10.4/lib/python3.10/site-packages (2.6.0)\n",
      "Requirement already satisfied: requests in /Users/danilkladnitsky/.pyenv/versions/3.10.4/lib/python3.10/site-packages (from transformers) (2.32.3)\n",
      "Requirement already satisfied: safetensors>=0.4.3 in /Users/danilkladnitsky/.pyenv/versions/3.10.4/lib/python3.10/site-packages (from transformers) (0.5.3)\n",
      "Requirement already satisfied: huggingface-hub<1.0,>=0.30.0 in /Users/danilkladnitsky/.pyenv/versions/3.10.4/lib/python3.10/site-packages (from transformers) (0.30.2)\n",
      "Requirement already satisfied: packaging>=20.0 in /Users/danilkladnitsky/.pyenv/versions/3.10.4/lib/python3.10/site-packages (from transformers) (23.2)\n",
      "Requirement already satisfied: pyyaml>=5.1 in /Users/danilkladnitsky/.pyenv/versions/3.10.4/lib/python3.10/site-packages (from transformers) (6.0.2)\n",
      "Requirement already satisfied: tokenizers<0.22,>=0.21 in /Users/danilkladnitsky/.pyenv/versions/3.10.4/lib/python3.10/site-packages (from transformers) (0.21.0)\n",
      "Requirement already satisfied: regex!=2019.12.17 in /Users/danilkladnitsky/.pyenv/versions/3.10.4/lib/python3.10/site-packages (from transformers) (2024.11.6)\n",
      "Requirement already satisfied: numpy>=1.17 in /Users/danilkladnitsky/.pyenv/versions/3.10.4/lib/python3.10/site-packages (from transformers) (1.26.3)\n",
      "Requirement already satisfied: tqdm>=4.27 in /Users/danilkladnitsky/.pyenv/versions/3.10.4/lib/python3.10/site-packages (from transformers) (4.67.1)\n",
      "Requirement already satisfied: filelock in /Users/danilkladnitsky/.pyenv/versions/3.10.4/lib/python3.10/site-packages (from transformers) (3.16.1)\n",
      "Requirement already satisfied: jinja2 in /Users/danilkladnitsky/.pyenv/versions/3.10.4/lib/python3.10/site-packages (from torch) (3.1.2)\n",
      "Requirement already satisfied: networkx in /Users/danilkladnitsky/.pyenv/versions/3.10.4/lib/python3.10/site-packages (from torch) (3.4.2)\n",
      "Requirement already satisfied: typing-extensions>=4.10.0 in /Users/danilkladnitsky/.pyenv/versions/3.10.4/lib/python3.10/site-packages (from torch) (4.13.2)\n",
      "Requirement already satisfied: fsspec in /Users/danilkladnitsky/.pyenv/versions/3.10.4/lib/python3.10/site-packages (from torch) (2024.12.0)\n",
      "Requirement already satisfied: sympy==1.13.1 in /Users/danilkladnitsky/.pyenv/versions/3.10.4/lib/python3.10/site-packages (from torch) (1.13.1)\n",
      "Requirement already satisfied: mpmath<1.4,>=1.1.0 in /Users/danilkladnitsky/.pyenv/versions/3.10.4/lib/python3.10/site-packages (from sympy==1.13.1->torch) (1.3.0)\n",
      "Requirement already satisfied: MarkupSafe>=2.0 in /Users/danilkladnitsky/.pyenv/versions/3.10.4/lib/python3.10/site-packages (from jinja2->torch) (3.0.2)\n",
      "Requirement already satisfied: urllib3<3,>=1.21.1 in /Users/danilkladnitsky/.pyenv/versions/3.10.4/lib/python3.10/site-packages (from requests->transformers) (2.0.7)\n",
      "Requirement already satisfied: charset-normalizer<4,>=2 in /Users/danilkladnitsky/.pyenv/versions/3.10.4/lib/python3.10/site-packages (from requests->transformers) (3.4.1)\n",
      "Requirement already satisfied: idna<4,>=2.5 in /Users/danilkladnitsky/.pyenv/versions/3.10.4/lib/python3.10/site-packages (from requests->transformers) (3.10)\n",
      "Requirement already satisfied: certifi>=2017.4.17 in /Users/danilkladnitsky/.pyenv/versions/3.10.4/lib/python3.10/site-packages (from requests->transformers) (2024.12.14)\n",
      "\u001b[33mWARNING: You are using pip version 22.0.4; however, version 25.1.1 is available.\n",
      "You should consider upgrading via the '/Users/danilkladnitsky/.pyenv/versions/3.10.4/bin/python -m pip install --upgrade pip' command.\u001b[0m\u001b[33m\n",
      "\u001b[0mNote: you may need to restart the kernel to use updated packages.\n"
     ]
    }
   ],
   "source": [
    "%pip install transformers torch"
   ]
  },
  {
   "cell_type": "code",
   "execution_count": 10,
   "metadata": {},
   "outputs": [
    {
     "name": "stdout",
     "output_type": "stream",
     "text": [
      "0 None\n",
      "请 用 词语 “ 学生 ” 造句 : 很多 学生 去 了 。 这 本书 。 。 。 。 一个 写作 客气 。 。 ! 你 。 。 。 ” 一个 ? 。 。 。 。 。 我 。 ! 。 。 的 雨 。 。 。 。 。 本 。 。 。 。 。 ” 。\n",
      "请 用 词语 “ 学生 ” 造句 : 很多 学生 买 了 这 本书 。 。 。 。 ! 一个 。 有 很会 。 。 人去 。 。 。 。 吗 ? ? ” 是 的 , 对 吗 ? , 不是 星期六 。 。 我 的 . 谢谢 。 ” 。 。 ” 。 ” 。 。 ” 。\n",
      "请 用 词语 “ 学生 ” 造句 : 有个 学生 想见 你 。 了 一个 人 ! ? 。 。 。 ” 一个 去 一下 。 。 。 是 的 , 我 不是 你 的 朋友 。 。 我 很 高兴 。 来 。 。 。 。 。 。 。 。 。 。 。 。 。 。 。 。 。\n",
      "📝 Sentence 1: 请用词语“学生”造句:很多学生去了。\n",
      "📝 Sentence 2: 请用词语“学生”造句:很多学生买了这本书。\n",
      "📝 Sentence 3: 请用词语“学生”造句:有个学生想见你。\n"
     ]
    }
   ],
   "source": [
    "from transformers import GPT2LMHeadModel, AutoTokenizer\n",
    "import torch\n",
    "import re\n",
    "\n",
    "class ChineseSentenceGenerator:\n",
    "    def __init__(self, model_path: str, device: str = None):\n",
    "        self.tokenizer = AutoTokenizer.from_pretrained(model_path)\n",
    "        self.model = GPT2LMHeadModel.from_pretrained(model_path)\n",
    "\n",
    "        self.model.eval()\n",
    "        self.device = device or (\"cuda\" if torch.cuda.is_available() else \"cpu\")\n",
    "        self.model.to(self.device)\n",
    "\n",
    "    def generate(self, word: str, max_length: int = 60, num_return_sequences: int = 1) -> list:\n",
    "        prompt = f\"请用词语“{word}”造句：\"\n",
    "        inputs = self.tokenizer(prompt, return_tensors=\"pt\").to(self.device)\n",
    "\n",
    "        with torch.no_grad():\n",
    "            outputs = self.model.generate(\n",
    "                input_ids=inputs[\"input_ids\"],\n",
    "                attention_mask=inputs[\"attention_mask\"],\n",
    "                max_length=max_length,\n",
    "                do_sample=True,\n",
    "                top_k=50,\n",
    "                top_p=0.9,\n",
    "                temperature=0.9,\n",
    "                num_return_sequences=num_return_sequences,\n",
    "                repetition_penalty=1.3,\n",
    "                pad_token_id=self.tokenizer.pad_token_id,\n",
    "                eos_token_id=self.tokenizer.eos_token_id\n",
    "            )\n",
    "\n",
    "        print(self.tokenizer.pad_token_id, self.tokenizer.eos_token_id)\n",
    "\n",
    "        results = []\n",
    "        for output in outputs:\n",
    "            decoded = self.tokenizer.decode(output, skip_special_tokens=True)\n",
    "            print(decoded)\n",
    "            sentence = decoded.replace(prompt, \"\").replace(\" \", \"\").strip()\n",
    "            sentence = re.split(r\"[。！？]\", sentence)[0] + \"。\"  # stop at first punctuation\n",
    "            results.append(sentence)\n",
    "\n",
    "        return results\n",
    "    \n",
    "generator = ChineseSentenceGenerator(\"../models/hsk1-gpt2-jieba\")\n",
    "\n",
    "results = generator.generate(\"学生\", max_length=60, num_return_sequences=3)\n",
    "for i, sent in enumerate(results):\n",
    "    print(f\"📝 Sentence {i+1}: {sent}\")"
   ]
  }
 ],
 "metadata": {
  "kernelspec": {
   "display_name": "Python 3",
   "language": "python",
   "name": "python3"
  },
  "language_info": {
   "codemirror_mode": {
    "name": "ipython",
    "version": 3
   },
   "file_extension": ".py",
   "mimetype": "text/x-python",
   "name": "python",
   "nbconvert_exporter": "python",
   "pygments_lexer": "ipython3",
   "version": "3.10.4"
  }
 },
 "nbformat": 4,
 "nbformat_minor": 2
}
